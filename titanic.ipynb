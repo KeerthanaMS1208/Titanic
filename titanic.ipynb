{
 "cells": [
  {
   "cell_type": "code",
   "execution_count": 1,
   "id": "b8e7d992",
   "metadata": {
    "execution": {
     "iopub.execute_input": "2025-04-06T10:19:45.764919Z",
     "iopub.status.busy": "2025-04-06T10:19:45.764418Z",
     "iopub.status.idle": "2025-04-06T10:19:47.053079Z",
     "shell.execute_reply": "2025-04-06T10:19:47.051857Z"
    },
    "papermill": {
     "duration": 1.295771,
     "end_time": "2025-04-06T10:19:47.055140",
     "exception": false,
     "start_time": "2025-04-06T10:19:45.759369",
     "status": "completed"
    },
    "tags": []
   },
   "outputs": [
    {
     "name": "stdout",
     "output_type": "stream",
     "text": [
      "<class 'pandas.core.frame.DataFrame'>\n",
      "RangeIndex: 891 entries, 0 to 890\n",
      "Data columns (total 12 columns):\n",
      " #   Column       Non-Null Count  Dtype  \n",
      "---  ------       --------------  -----  \n",
      " 0   PassengerId  891 non-null    int64  \n",
      " 1   Survived     891 non-null    int64  \n",
      " 2   Pclass       891 non-null    int64  \n",
      " 3   Name         891 non-null    object \n",
      " 4   Sex          891 non-null    object \n",
      " 5   Age          714 non-null    float64\n",
      " 6   SibSp        891 non-null    int64  \n",
      " 7   Parch        891 non-null    int64  \n",
      " 8   Ticket       891 non-null    object \n",
      " 9   Fare         891 non-null    float64\n",
      " 10  Cabin        204 non-null    object \n",
      " 11  Embarked     889 non-null    object \n",
      "dtypes: float64(2), int64(5), object(5)\n",
      "memory usage: 83.7+ KB\n"
     ]
    },
    {
     "data": {
      "text/html": [
       "<div>\n",
       "<style scoped>\n",
       "    .dataframe tbody tr th:only-of-type {\n",
       "        vertical-align: middle;\n",
       "    }\n",
       "\n",
       "    .dataframe tbody tr th {\n",
       "        vertical-align: top;\n",
       "    }\n",
       "\n",
       "    .dataframe thead th {\n",
       "        text-align: right;\n",
       "    }\n",
       "</style>\n",
       "<table border=\"1\" class=\"dataframe\">\n",
       "  <thead>\n",
       "    <tr style=\"text-align: right;\">\n",
       "      <th></th>\n",
       "      <th>PassengerId</th>\n",
       "      <th>Survived</th>\n",
       "      <th>Pclass</th>\n",
       "      <th>Age</th>\n",
       "      <th>SibSp</th>\n",
       "      <th>Parch</th>\n",
       "      <th>Fare</th>\n",
       "    </tr>\n",
       "  </thead>\n",
       "  <tbody>\n",
       "    <tr>\n",
       "      <th>count</th>\n",
       "      <td>891.000000</td>\n",
       "      <td>891.000000</td>\n",
       "      <td>891.000000</td>\n",
       "      <td>714.000000</td>\n",
       "      <td>891.000000</td>\n",
       "      <td>891.000000</td>\n",
       "      <td>891.000000</td>\n",
       "    </tr>\n",
       "    <tr>\n",
       "      <th>mean</th>\n",
       "      <td>446.000000</td>\n",
       "      <td>0.383838</td>\n",
       "      <td>2.308642</td>\n",
       "      <td>29.699118</td>\n",
       "      <td>0.523008</td>\n",
       "      <td>0.381594</td>\n",
       "      <td>32.204208</td>\n",
       "    </tr>\n",
       "    <tr>\n",
       "      <th>std</th>\n",
       "      <td>257.353842</td>\n",
       "      <td>0.486592</td>\n",
       "      <td>0.836071</td>\n",
       "      <td>14.526497</td>\n",
       "      <td>1.102743</td>\n",
       "      <td>0.806057</td>\n",
       "      <td>49.693429</td>\n",
       "    </tr>\n",
       "    <tr>\n",
       "      <th>min</th>\n",
       "      <td>1.000000</td>\n",
       "      <td>0.000000</td>\n",
       "      <td>1.000000</td>\n",
       "      <td>0.420000</td>\n",
       "      <td>0.000000</td>\n",
       "      <td>0.000000</td>\n",
       "      <td>0.000000</td>\n",
       "    </tr>\n",
       "    <tr>\n",
       "      <th>25%</th>\n",
       "      <td>223.500000</td>\n",
       "      <td>0.000000</td>\n",
       "      <td>2.000000</td>\n",
       "      <td>20.125000</td>\n",
       "      <td>0.000000</td>\n",
       "      <td>0.000000</td>\n",
       "      <td>7.910400</td>\n",
       "    </tr>\n",
       "    <tr>\n",
       "      <th>50%</th>\n",
       "      <td>446.000000</td>\n",
       "      <td>0.000000</td>\n",
       "      <td>3.000000</td>\n",
       "      <td>28.000000</td>\n",
       "      <td>0.000000</td>\n",
       "      <td>0.000000</td>\n",
       "      <td>14.454200</td>\n",
       "    </tr>\n",
       "    <tr>\n",
       "      <th>75%</th>\n",
       "      <td>668.500000</td>\n",
       "      <td>1.000000</td>\n",
       "      <td>3.000000</td>\n",
       "      <td>38.000000</td>\n",
       "      <td>1.000000</td>\n",
       "      <td>0.000000</td>\n",
       "      <td>31.000000</td>\n",
       "    </tr>\n",
       "    <tr>\n",
       "      <th>max</th>\n",
       "      <td>891.000000</td>\n",
       "      <td>1.000000</td>\n",
       "      <td>3.000000</td>\n",
       "      <td>80.000000</td>\n",
       "      <td>8.000000</td>\n",
       "      <td>6.000000</td>\n",
       "      <td>512.329200</td>\n",
       "    </tr>\n",
       "  </tbody>\n",
       "</table>\n",
       "</div>"
      ],
      "text/plain": [
       "       PassengerId    Survived      Pclass         Age       SibSp  \\\n",
       "count   891.000000  891.000000  891.000000  714.000000  891.000000   \n",
       "mean    446.000000    0.383838    2.308642   29.699118    0.523008   \n",
       "std     257.353842    0.486592    0.836071   14.526497    1.102743   \n",
       "min       1.000000    0.000000    1.000000    0.420000    0.000000   \n",
       "25%     223.500000    0.000000    2.000000   20.125000    0.000000   \n",
       "50%     446.000000    0.000000    3.000000   28.000000    0.000000   \n",
       "75%     668.500000    1.000000    3.000000   38.000000    1.000000   \n",
       "max     891.000000    1.000000    3.000000   80.000000    8.000000   \n",
       "\n",
       "            Parch        Fare  \n",
       "count  891.000000  891.000000  \n",
       "mean     0.381594   32.204208  \n",
       "std      0.806057   49.693429  \n",
       "min      0.000000    0.000000  \n",
       "25%      0.000000    7.910400  \n",
       "50%      0.000000   14.454200  \n",
       "75%      0.000000   31.000000  \n",
       "max      6.000000  512.329200  "
      ]
     },
     "execution_count": 1,
     "metadata": {},
     "output_type": "execute_result"
    }
   ],
   "source": [
    "import pandas as pd\n",
    "\n",
    "train = pd.read_csv('/kaggle/input/titanic-dataset/train.csv')\n",
    "test = pd.read_csv('/kaggle/input/titanic-dataset/test.csv')\n",
    "\n",
    "train.head()\n",
    "train.info()\n",
    "train.describe()\n"
   ]
  },
  {
   "cell_type": "code",
   "execution_count": 2,
   "id": "0ec04801",
   "metadata": {
    "execution": {
     "iopub.execute_input": "2025-04-06T10:19:47.064502Z",
     "iopub.status.busy": "2025-04-06T10:19:47.064087Z",
     "iopub.status.idle": "2025-04-06T10:19:47.072216Z",
     "shell.execute_reply": "2025-04-06T10:19:47.071164Z"
    },
    "papermill": {
     "duration": 0.014184,
     "end_time": "2025-04-06T10:19:47.073826",
     "exception": false,
     "start_time": "2025-04-06T10:19:47.059642",
     "status": "completed"
    },
    "tags": []
   },
   "outputs": [
    {
     "data": {
      "text/plain": [
       "PassengerId      0\n",
       "Survived         0\n",
       "Pclass           0\n",
       "Name             0\n",
       "Sex              0\n",
       "Age            177\n",
       "SibSp            0\n",
       "Parch            0\n",
       "Ticket           0\n",
       "Fare             0\n",
       "Cabin          687\n",
       "Embarked         2\n",
       "dtype: int64"
      ]
     },
     "execution_count": 2,
     "metadata": {},
     "output_type": "execute_result"
    }
   ],
   "source": [
    "train.isnull().sum()\n"
   ]
  },
  {
   "cell_type": "code",
   "execution_count": 3,
   "id": "77fd63b0",
   "metadata": {
    "execution": {
     "iopub.execute_input": "2025-04-06T10:19:47.082709Z",
     "iopub.status.busy": "2025-04-06T10:19:47.082263Z",
     "iopub.status.idle": "2025-04-06T10:19:47.093245Z",
     "shell.execute_reply": "2025-04-06T10:19:47.092056Z"
    },
    "papermill": {
     "duration": 0.017456,
     "end_time": "2025-04-06T10:19:47.095111",
     "exception": false,
     "start_time": "2025-04-06T10:19:47.077655",
     "status": "completed"
    },
    "tags": []
   },
   "outputs": [],
   "source": [
    "columns_to_drop = ['Cabin', 'Ticket', 'Name']\n",
    "train = train.drop(columns=[col for col in columns_to_drop if col in train.columns])\n",
    "test = test.drop(columns=[col for col in columns_to_drop if col in test.columns])\n"
   ]
  },
  {
   "cell_type": "code",
   "execution_count": 4,
   "id": "32c26da1",
   "metadata": {
    "execution": {
     "iopub.execute_input": "2025-04-06T10:19:47.104072Z",
     "iopub.status.busy": "2025-04-06T10:19:47.103725Z",
     "iopub.status.idle": "2025-04-06T10:19:47.112626Z",
     "shell.execute_reply": "2025-04-06T10:19:47.111621Z"
    },
    "papermill": {
     "duration": 0.015221,
     "end_time": "2025-04-06T10:19:47.114473",
     "exception": false,
     "start_time": "2025-04-06T10:19:47.099252",
     "status": "completed"
    },
    "tags": []
   },
   "outputs": [],
   "source": [
    "# Fill Age with median\n",
    "train['Age'] = train['Age'].fillna(train['Age'].median())\n",
    "test['Age'] = test['Age'].fillna(test['Age'].median())\n",
    "\n",
    "# Fill Embarked with mode\n",
    "train['Embarked'] = train['Embarked'].fillna(train['Embarked'].mode()[0])\n",
    "\n",
    "# Fill Fare in test set\n",
    "test['Fare'] = test['Fare'].fillna(test['Fare'].median())\n"
   ]
  },
  {
   "cell_type": "code",
   "execution_count": 5,
   "id": "d9f843f1",
   "metadata": {
    "execution": {
     "iopub.execute_input": "2025-04-06T10:19:47.123126Z",
     "iopub.status.busy": "2025-04-06T10:19:47.122723Z",
     "iopub.status.idle": "2025-04-06T10:19:47.138695Z",
     "shell.execute_reply": "2025-04-06T10:19:47.137523Z"
    },
    "papermill": {
     "duration": 0.022503,
     "end_time": "2025-04-06T10:19:47.140708",
     "exception": false,
     "start_time": "2025-04-06T10:19:47.118205",
     "status": "completed"
    },
    "tags": []
   },
   "outputs": [],
   "source": [
    "# Convert Sex and Embarked to numeric using one-hot encoding\n",
    "train = pd.get_dummies(train, columns=['Sex', 'Embarked'], drop_first=True)\n",
    "test = pd.get_dummies(test, columns=['Sex', 'Embarked'], drop_first=True)\n"
   ]
  },
  {
   "cell_type": "code",
   "execution_count": 6,
   "id": "d5c20689",
   "metadata": {
    "execution": {
     "iopub.execute_input": "2025-04-06T10:19:47.149383Z",
     "iopub.status.busy": "2025-04-06T10:19:47.149012Z",
     "iopub.status.idle": "2025-04-06T10:19:47.156401Z",
     "shell.execute_reply": "2025-04-06T10:19:47.155413Z"
    },
    "papermill": {
     "duration": 0.013543,
     "end_time": "2025-04-06T10:19:47.158174",
     "exception": false,
     "start_time": "2025-04-06T10:19:47.144631",
     "status": "completed"
    },
    "tags": []
   },
   "outputs": [],
   "source": [
    "# Fill Age\n",
    "if 'Age' in train.columns:\n",
    "    train['Age'] = train['Age'].fillna(train['Age'].median())\n",
    "if 'Age' in test.columns:\n",
    "    test['Age'] = test['Age'].fillna(test['Age'].median())\n",
    "\n",
    "# Fill Embarked (only if exists)\n",
    "if 'Embarked' in train.columns:\n",
    "    train['Embarked'] = train['Embarked'].fillna(train['Embarked'].mode()[0])\n",
    "\n",
    "# Fill Fare\n",
    "if 'Fare' in test.columns:\n",
    "    test['Fare'] = test['Fare'].fillna(test['Fare'].median())\n"
   ]
  },
  {
   "cell_type": "code",
   "execution_count": 7,
   "id": "7f85bb75",
   "metadata": {
    "execution": {
     "iopub.execute_input": "2025-04-06T10:19:47.166632Z",
     "iopub.status.busy": "2025-04-06T10:19:47.166300Z",
     "iopub.status.idle": "2025-04-06T10:19:47.171802Z",
     "shell.execute_reply": "2025-04-06T10:19:47.170593Z"
    },
    "papermill": {
     "duration": 0.011752,
     "end_time": "2025-04-06T10:19:47.173601",
     "exception": false,
     "start_time": "2025-04-06T10:19:47.161849",
     "status": "completed"
    },
    "tags": []
   },
   "outputs": [],
   "source": [
    "# One-hot encode safely\n",
    "categorical_cols = ['Sex', 'Embarked']\n",
    "for col in categorical_cols:\n",
    "    if col in train.columns:\n",
    "        train = pd.get_dummies(train, columns=[col], drop_first=True)\n",
    "    if col in test.columns:\n",
    "        test = pd.get_dummies(test, columns=[col], drop_first=True)\n"
   ]
  },
  {
   "cell_type": "code",
   "execution_count": 8,
   "id": "5b3f96e9",
   "metadata": {
    "execution": {
     "iopub.execute_input": "2025-04-06T10:19:47.182951Z",
     "iopub.status.busy": "2025-04-06T10:19:47.182617Z",
     "iopub.status.idle": "2025-04-06T10:19:49.632363Z",
     "shell.execute_reply": "2025-04-06T10:19:49.630918Z"
    },
    "papermill": {
     "duration": 2.456516,
     "end_time": "2025-04-06T10:19:49.634171",
     "exception": false,
     "start_time": "2025-04-06T10:19:47.177655",
     "status": "completed"
    },
    "tags": []
   },
   "outputs": [
    {
     "name": "stdout",
     "output_type": "stream",
     "text": [
      "Index(['PassengerId', 'Survived', 'Pclass', 'Age', 'SibSp', 'Parch', 'Fare',\n",
      "       'Sex_male', 'Embarked_Q', 'Embarked_S'],\n",
      "      dtype='object')\n"
     ]
    }
   ],
   "source": [
    "from sklearn.ensemble import RandomForestClassifier\n",
    "from sklearn.model_selection import train_test_split\n",
    "from sklearn.metrics import accuracy_score\n",
    "\n",
    "# Show column names to pick correct features\n",
    "print(train.columns)\n"
   ]
  },
  {
   "cell_type": "code",
   "execution_count": 9,
   "id": "1617afd5",
   "metadata": {
    "execution": {
     "iopub.execute_input": "2025-04-06T10:19:49.643605Z",
     "iopub.status.busy": "2025-04-06T10:19:49.643050Z",
     "iopub.status.idle": "2025-04-06T10:19:49.865238Z",
     "shell.execute_reply": "2025-04-06T10:19:49.863793Z"
    },
    "papermill": {
     "duration": 0.228699,
     "end_time": "2025-04-06T10:19:49.867097",
     "exception": false,
     "start_time": "2025-04-06T10:19:49.638398",
     "status": "completed"
    },
    "tags": []
   },
   "outputs": [
    {
     "name": "stdout",
     "output_type": "stream",
     "text": [
      "Validation Accuracy: 0.8212290502793296\n"
     ]
    }
   ],
   "source": [
    "# Use only available features from the list above\n",
    "features = [col for col in ['Pclass', 'Age', 'SibSp', 'Parch', 'Fare', 'Sex_male', 'Embarked_Q', 'Embarked_S'] if col in train.columns]\n",
    "\n",
    "X = train[features]\n",
    "y = train['Survived']\n",
    "\n",
    "X_train, X_val, y_train, y_val = train_test_split(X, y, test_size=0.2, random_state=42)\n",
    "\n",
    "model = RandomForestClassifier(n_estimators=100, random_state=42)\n",
    "model.fit(X_train, y_train)\n",
    "\n",
    "y_pred = model.predict(X_val)\n",
    "print(\"Validation Accuracy:\", accuracy_score(y_val, y_pred))\n"
   ]
  },
  {
   "cell_type": "code",
   "execution_count": null,
   "id": "4bafa179",
   "metadata": {
    "papermill": {
     "duration": 0.003784,
     "end_time": "2025-04-06T10:19:49.875051",
     "exception": false,
     "start_time": "2025-04-06T10:19:49.871267",
     "status": "completed"
    },
    "tags": []
   },
   "outputs": [],
   "source": []
  },
  {
   "cell_type": "code",
   "execution_count": 10,
   "id": "41dc5c79",
   "metadata": {
    "execution": {
     "iopub.execute_input": "2025-04-06T10:19:49.885146Z",
     "iopub.status.busy": "2025-04-06T10:19:49.884708Z",
     "iopub.status.idle": "2025-04-06T10:19:49.914652Z",
     "shell.execute_reply": "2025-04-06T10:19:49.913282Z"
    },
    "papermill": {
     "duration": 0.037392,
     "end_time": "2025-04-06T10:19:49.916612",
     "exception": false,
     "start_time": "2025-04-06T10:19:49.879220",
     "status": "completed"
    },
    "tags": []
   },
   "outputs": [
    {
     "name": "stdout",
     "output_type": "stream",
     "text": [
      "✅ submission.csv created!\n"
     ]
    }
   ],
   "source": [
    "# Ensure test set has the same features\n",
    "X_test = test[features]  # use same 'features' list from training\n",
    "\n",
    "# Predict\n",
    "test_preds = model.predict(X_test)\n",
    "\n",
    "# Create submission file\n",
    "submission = pd.DataFrame({\n",
    "    'PassengerId': test['PassengerId'],\n",
    "    'Survived': test_preds\n",
    "})\n",
    "\n",
    "submission.to_csv('submission.csv', index=False)\n",
    "print(\"✅ submission.csv created!\")\n"
   ]
  },
  {
   "cell_type": "code",
   "execution_count": 11,
   "id": "2ec8d78b",
   "metadata": {
    "execution": {
     "iopub.execute_input": "2025-04-06T10:19:49.926062Z",
     "iopub.status.busy": "2025-04-06T10:19:49.925693Z",
     "iopub.status.idle": "2025-04-06T10:19:49.932136Z",
     "shell.execute_reply": "2025-04-06T10:19:49.931016Z"
    },
    "papermill": {
     "duration": 0.013185,
     "end_time": "2025-04-06T10:19:49.934126",
     "exception": false,
     "start_time": "2025-04-06T10:19:49.920941",
     "status": "completed"
    },
    "tags": []
   },
   "outputs": [],
   "source": [
    "submission.to_csv('submission.csv', index=False)\n"
   ]
  }
 ],
 "metadata": {
  "kaggle": {
   "accelerator": "none",
   "dataSources": [
    {
     "datasetId": 7062946,
     "sourceId": 11295412,
     "sourceType": "datasetVersion"
    }
   ],
   "dockerImageVersionId": 30918,
   "isGpuEnabled": false,
   "isInternetEnabled": false,
   "language": "python",
   "sourceType": "notebook"
  },
  "kernelspec": {
   "display_name": "Python 3",
   "language": "python",
   "name": "python3"
  },
  "language_info": {
   "codemirror_mode": {
    "name": "ipython",
    "version": 3
   },
   "file_extension": ".py",
   "mimetype": "text/x-python",
   "name": "python",
   "nbconvert_exporter": "python",
   "pygments_lexer": "ipython3",
   "version": "3.10.12"
  },
  "papermill": {
   "default_parameters": {},
   "duration": 7.976188,
   "end_time": "2025-04-06T10:19:50.659313",
   "environment_variables": {},
   "exception": null,
   "input_path": "__notebook__.ipynb",
   "output_path": "__notebook__.ipynb",
   "parameters": {},
   "start_time": "2025-04-06T10:19:42.683125",
   "version": "2.6.0"
  }
 },
 "nbformat": 4,
 "nbformat_minor": 5
}
